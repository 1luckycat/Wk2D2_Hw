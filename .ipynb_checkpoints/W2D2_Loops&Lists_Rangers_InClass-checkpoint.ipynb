{
 "cells": [
  {
   "cell_type": "markdown",
   "metadata": {},
   "source": [
    "# Functions, Scoping, Data Collections 1 & List Comprehensions"
   ]
  },
  {
   "cell_type": "markdown",
   "metadata": {},
   "source": [
    "## Tasks Today:\n",
    "\n",
    "<i>Monday Additions (for loops)</i>\n",
    "\n",
    "1) For Loops <br>\n",
    " &nbsp;&nbsp;&nbsp;&nbsp; a) Using 'in' keyword <br>\n",
    " &nbsp;&nbsp;&nbsp;&nbsp; b) Continue Statement <br>\n",
    " &nbsp;&nbsp;&nbsp;&nbsp; c) Break Statement <br>\n",
    " &nbsp;&nbsp;&nbsp;&nbsp; d) Pass Statement <br>\n",
    " &nbsp;&nbsp;&nbsp;&nbsp; e) Double For Loops <br>\n",
    "2) While Loops <br>\n",
    " &nbsp;&nbsp;&nbsp;&nbsp; a) Looping 'While True' <br>\n",
    " &nbsp;&nbsp;&nbsp;&nbsp; b) While and For Loops Used Together <br>\n",
    " \n",
    "3) Lists <br>\n",
    " &nbsp;&nbsp;&nbsp;&nbsp; a) Declaring Lists <br>\n",
    " &nbsp;&nbsp;&nbsp;&nbsp; b) Indexing a List <br>\n",
    " &nbsp;&nbsp;&nbsp;&nbsp; c) .append() <br>\n",
    " &nbsp;&nbsp;&nbsp;&nbsp; d) .insert() <br>\n",
    " &nbsp;&nbsp;&nbsp;&nbsp; e) .pop() <br>\n",
    " &nbsp;&nbsp;&nbsp;&nbsp; f) .remove() <br>\n",
    " &nbsp;&nbsp;&nbsp;&nbsp; g) del() <br>\n",
    " &nbsp;&nbsp;&nbsp;&nbsp; h) Concatenating Two Lists <br>\n",
    " &nbsp;&nbsp;&nbsp;&nbsp; i) Lists Within Lists <br>\n",
    " &nbsp;&nbsp;&nbsp;&nbsp; j) Looping Through Lists <br>\n",
    "4) Working With Lists <br>\n",
    " &nbsp;&nbsp;&nbsp;&nbsp; a) min() <br>\n",
    " &nbsp;&nbsp;&nbsp;&nbsp; b) max() <br>\n",
    " &nbsp;&nbsp;&nbsp;&nbsp; c) sum() <br>\n",
    " &nbsp;&nbsp;&nbsp;&nbsp; d) sort() <br>\n",
    " &nbsp;&nbsp;&nbsp;&nbsp; e) Copying a List <br>\n",
    " &nbsp;&nbsp;&nbsp;&nbsp; f) 'in' keyword <br>\n",
    " &nbsp;&nbsp;&nbsp;&nbsp; g) 'not in' keyword <br>\n",
    " &nbsp;&nbsp;&nbsp;&nbsp; i) Checking an Empty List <br>\n",
    " &nbsp;&nbsp;&nbsp;&nbsp; j) Removing Instances with a Loop <br> \n",
    "5) List Comprehensions <br>\n",
    "6) Tuples <br>\n",
    " &nbsp;&nbsp;&nbsp;&nbsp; a) sorted() <br>\n"
   ]
  },
  {
   "cell_type": "markdown",
   "metadata": {},
   "source": [
    "### For Loops"
   ]
  },
  {
   "cell_type": "code",
   "execution_count": null,
   "metadata": {},
   "outputs": [],
   "source": [
    "# for keyword, counter/iterator variable, in keyword, object\n",
    "# An iterable is just a technical term for a “container” or anything that holds multiple valuess\n",
    "# Like a string holds multiple characters, lists hold multiple values, etc\n",
    "\n",
    "name = \"Ryan Rhoades\"\n",
    "\n",
    "# for keyword, iterator variable, in keyword, the thing we're looping through\n",
    "for letter in name:\n",
    "    print(letter)\n",
    "\n",
    "#cant iterate through integers/floats --- will need to make it a string for it to work\n",
    "\n",
    "# range()\n",
    "# len()\n",
    "\n",
    "print(len(name))\n",
    "\n",
    "# looping by index\n",
    "# for keyword, iterator variable, in keyword range(len(object))\n",
    "for i in range(len(name)):\n",
    "    # print(i)\n",
    "    print(name[i])\n",
    "\n",
    "print(name[0])  #<------this finds a specific letter in the name\n"
   ]
  },
  {
   "cell_type": "code",
   "execution_count": null,
   "metadata": {},
   "outputs": [],
   "source": [
    "# enumerate()\n",
    "# index, value\n",
    "\n",
    "name = \"Ryan Rhoades\"\n",
    "\n",
    "for i, value in enumerate(name):\n",
    "    print(i, value)\n",
    "\n",
    "#index/i  value\n",
    "# 0        R\n",
    "# 1        y\n",
    "# 2        a\n",
    "# 3        n\n",
    "\n",
    "\n",
    "# example to give tuples\n",
    "for tup in enumerate(name):\n",
    "    print(tup)\n",
    "\n",
    "# tup --- shows in parenthases"
   ]
  },
  {
   "cell_type": "code",
   "execution_count": null,
   "metadata": {},
   "outputs": [],
   "source": [
    "# another example with different variables\n",
    "for potato, stew in enumerate(name):\n",
    "    print(potato, stew)"
   ]
  },
  {
   "cell_type": "code",
   "execution_count": null,
   "metadata": {},
   "outputs": [],
   "source": [
    "name2 = \"Alex\"\n",
    "name3 = \"Justin\"\n",
    "name4 = \"Razvan\"\n",
    "\n",
    "print(len(name2))\n",
    "print(len(name3))\n",
    "print(len(name4))\n"
   ]
  },
  {
   "cell_type": "markdown",
   "metadata": {},
   "source": [
    "##### Using 'in' keyword"
   ]
  },
  {
   "cell_type": "code",
   "execution_count": null,
   "metadata": {},
   "outputs": [],
   "source": [
    "#in is what accesses the items in an iterable\n",
    "for num in range(15):\n",
    "    print(num)\n",
    "    # print(num**2)  <---can get squared numbers as well"
   ]
  },
  {
   "cell_type": "code",
   "execution_count": null,
   "metadata": {},
   "outputs": [],
   "source": [
    "name = \"mega man\"\n",
    "if \"g\" in name:\n",
    "    print(\"yay its here\")\n",
    "else:\n",
    "    print(\"its not here\")"
   ]
  },
  {
   "cell_type": "markdown",
   "metadata": {},
   "source": [
    "##### Continue Statement"
   ]
  },
  {
   "cell_type": "code",
   "execution_count": null,
   "metadata": {},
   "outputs": [],
   "source": [
    "#continue\n",
    "for num in range(20):\n",
    "    print(num)\n",
    "\n",
    "# continue on to the next iteration\n",
    "for i in range(20):\n",
    "    if i == 5 or i == 6:\n",
    "        continue\n",
    "    print(i)\n",
    "# once this hits 5 and 6, it wont print but will continue to the next numbers\n"
   ]
  },
  {
   "cell_type": "markdown",
   "metadata": {},
   "source": [
    "##### Break Statement"
   ]
  },
  {
   "cell_type": "code",
   "execution_count": null,
   "metadata": {},
   "outputs": [],
   "source": [
    "# will break out of the current loop\n",
    "# we use break as part of a condition\n",
    "for num in range(10):\n",
    "    print(num)\n",
    "print(\"\\n\")\n",
    "\n",
    "# using the break keyword with a condition\n",
    "for num in range(10):\n",
    "    if num == 7:\n",
    "        break\n",
    "    print(num)\n",
    "# once this finds 7, it stops running\n",
    "\n",
    "\n"
   ]
  },
  {
   "cell_type": "markdown",
   "metadata": {},
   "source": [
    "##### Pass Statement"
   ]
  },
  {
   "cell_type": "code",
   "execution_count": null,
   "metadata": {},
   "outputs": [],
   "source": [
    "# mostly used as a placeholder, and will continue on same iteration\n",
    "for i in range(20):\n",
    "    pass\n",
    "\n",
    "# used to pass the function while brainstorming so program doesnt bring up errors and stop working\n",
    "def my_func():\n",
    "    pass\n",
    "    "
   ]
  },
  {
   "cell_type": "code",
   "execution_count": null,
   "metadata": {},
   "outputs": [],
   "source": [
    "cool_person = \"Yugi Moto\"\n",
    "# loop through cool_person using the three for loops we talked about earlier\n",
    "#loop by value\n",
    "#loop by index\n",
    "#loop with enumerate\n",
    "\n",
    "# loop by value\n",
    "for i in cool_person:\n",
    "    print(i)\n",
    "print(\"\\n\")\n",
    "\n",
    "#     or\n",
    "for char in cool_person:\n",
    "    print(char)\n",
    "print(\"\\n\")\n",
    "\n",
    "\n",
    "\n",
    "# loop by index\n",
    "for i in range(len(cool_person)):\n",
    "    print(i)\n",
    "print(\"\\n\")\n",
    "\n",
    "#       or\n",
    "for i in range(len(cool_person)):\n",
    "    print(cool_person[i])\n",
    "print(\"\\n\")\n",
    "\n",
    "\n",
    "\n",
    "#loop with enumerate\n",
    "for i, value in enumerate(cool_person):\n",
    "    print(i, value)   #<-----get value with index.  Can use print(value) to just get only value and no i\n",
    "\n",
    "#       or\n",
    "for i, v in enumerate(cool_person):\n",
    "    print(v)\n",
    "\n"
   ]
  },
  {
   "cell_type": "markdown",
   "metadata": {},
   "source": [
    "##### Double For Loops"
   ]
  },
  {
   "cell_type": "code",
   "execution_count": null,
   "metadata": {},
   "outputs": [],
   "source": [
    "for i in range(5):\n",
    "    print(\"\\n\")\n",
    "    for j in range(5):\n",
    "        print(\"i = \", i, \"j = \", j)"
   ]
  },
  {
   "cell_type": "code",
   "execution_count": null,
   "metadata": {},
   "outputs": [],
   "source": [
    "# more examples of double for loop\n",
    "\n",
    "name = \"duck\"\n",
    "\n",
    "for char in name:\n",
    "    print(\"first loop\", char)\n",
    "    for char2 in name:\n",
    "        print(char2)\n",
    "print(\"\\n\")\n",
    "for char in name:\n",
    "    for char2 in name:\n",
    "        print(char, char2)\n",
    "print(\"\\n\")\n",
    "\n",
    "\n",
    "name2 = \"goose\"\n",
    "for char in name:\n",
    "    print(char)\n",
    "    for char2 in name2:\n",
    "        print(char2)"
   ]
  },
  {
   "cell_type": "markdown",
   "metadata": {},
   "source": [
    "### While Loops"
   ]
  },
  {
   "cell_type": "code",
   "execution_count": null,
   "metadata": {},
   "outputs": [],
   "source": [
    "#while keyword, condition statement\n",
    "#while loop will run based on the condition statement\n",
    "\n",
    "counter = 0\n",
    "while counter < 11:\n",
    "    print(counter)\n",
    "    counter +=1\n",
    "print(\"\\n\")\n",
    "\n",
    "\n",
    "num = 0\n",
    "while num < 15:\n",
    "    print(num**2)\n",
    "    num += 1\n",
    "print(\"\\n\")\n",
    "\n",
    "\n",
    "# another example decraminting it down\n",
    "num = 30\n",
    "while num > 15:\n",
    "    print(num**2)\n",
    "    num -= 1"
   ]
  },
  {
   "cell_type": "markdown",
   "metadata": {},
   "source": [
    "##### looping 'While True'"
   ]
  },
  {
   "cell_type": "code",
   "execution_count": null,
   "metadata": {},
   "outputs": [],
   "source": [
    "# true as a condition for while loop to run\n",
    "game_over = False\n",
    "while True:\n",
    "    print(\"infinite loop\")\n",
    "    if game_over == False:\n",
    "        break"
   ]
  },
  {
   "cell_type": "code",
   "execution_count": null,
   "metadata": {},
   "outputs": [],
   "source": [
    "# while loop with while True with user input\n",
    "# the loop will break when the user enters quit\n",
    "\n",
    "while True:\n",
    "    name = input(\"What is your name?\")\n",
    "    if name ==\"quit\":\n",
    "        print(\"bye bye\")\n",
    "        break\n",
    "    print(name)\n",
    "    "
   ]
  },
  {
   "cell_type": "code",
   "execution_count": null,
   "metadata": {},
   "outputs": [],
   "source": [
    "#another example of While True loop\n",
    "game = True  # setting a flag\n",
    "\n",
    "my_list = [1, 2, 3, 4, 5, 6]\n",
    "index = 0\n",
    "while game: #while True because game == True\n",
    "    if my_list[index] == 4:\n",
    "        game = False  #if the above condition is met, we change game (our flat) to False which breaks the while loop\n",
    "    print(my_list[index])\n",
    "    index += 1"
   ]
  },
  {
   "cell_type": "markdown",
   "metadata": {},
   "source": [
    "##### While & For Loops Used Together"
   ]
  },
  {
   "cell_type": "code",
   "execution_count": null,
   "metadata": {},
   "outputs": [],
   "source": [
    "j = 0\n",
    "\n",
    "while j < 10:\n",
    "    print(\"\\n While Loop Iteration\", j)\n",
    "\n",
    "    for i in range(2):\n",
    "        print(\"For Loop iteration\", i)\n",
    "\n",
    "    j += 1\n",
    "\n",
    "print(\"\\n\")\n",
    "# another example\n",
    "while j < 10:\n",
    "    print(\"\\n hand stand push ups set\", j)\n",
    "\n",
    "    for i in range(5):\n",
    "        if i == 0:\n",
    "            continue\n",
    "        print(\"hand stand push ups rep\", i)\n",
    "\n",
    "    j += 1"
   ]
  },
  {
   "cell_type": "markdown",
   "metadata": {},
   "source": [
    "##### The Range Function"
   ]
  },
  {
   "cell_type": "code",
   "execution_count": null,
   "metadata": {},
   "outputs": [],
   "source": [
    "# range(start, stop, step) - stop is required and start defaults to 0 if none is given\n",
    "#                stop\n",
    "for num in range(10):\n",
    "    print(num)\n",
    "\n",
    "print(\"\\n\")\n",
    "\n",
    "#               start, stop\n",
    "for num in range(1, 10):\n",
    "    print(num)\n",
    "\n",
    "print(\"\\n\")\n",
    "#              start, stop, step\n",
    "for num in range(1, 10, 2):\n",
    "    print(num)"
   ]
  },
  {
   "cell_type": "markdown",
   "metadata": {},
   "source": [
    "### String Manipulation Exercise"
   ]
  },
  {
   "cell_type": "code",
   "execution_count": null,
   "metadata": {},
   "outputs": [],
   "source": [
    "# looping through a list\n",
    "my_names = [\"Ryan\", \"Alex\", \"Alex2\", \"Will\"]\n",
    "for name in my_names:\n",
    "    print(name)\n",
    "\n",
    "names = ['    coNNor', 'max', ' EVan ', 'JORDAN']\n",
    "# HINT: You will need to use a for loop for iteration\n",
    "# Loop through the names list, remove white space and capitalize the first letter of each name. Print each new name.\n",
    "\n",
    "print(\"\\n\")\n",
    "for i in names:\n",
    "    print(i.strip().title())\n",
    "\n",
    "\n",
    "#Alex H's answer:\n",
    "# names = ['    coNNor', 'max', ' EVan ', 'JORDAN']\n",
    "# # HINT: You will need to use a for loop for iteration\n",
    "# # Loop through the names list, remove white space and capitalize the first letter of each name. Print each new name.\n",
    "# lis = []\n",
    "\n",
    "# for x in names:\n",
    "#     name = x.split()\n",
    "    \n",
    "#     for y in name:\n",
    "#         final = y.title()\n",
    "#         print(final)\n",
    "        \n",
    "#     lis += [final]\n",
    "    \n",
    "# print(\"here is the list of names\", lis)\n"
   ]
  },
  {
   "cell_type": "code",
   "execution_count": null,
   "metadata": {},
   "outputs": [],
   "source": [
    "#an example to add to a list and using .strip() and .title()\n",
    "\n",
    "clean_names = []\n",
    "for name in names:\n",
    "    clean_names.append(name.strip().title())\n",
    "\n",
    "print(clean_names)\n",
    "\n",
    "# getting out the values from the list\n",
    "for name in clean_names:\n",
    "    print(name)"
   ]
  },
  {
   "cell_type": "markdown",
   "metadata": {},
   "source": [
    "## Lists"
   ]
  },
  {
   "cell_type": "markdown",
   "metadata": {},
   "source": [
    "##### Declaring Lists"
   ]
  },
  {
   "cell_type": "code",
   "execution_count": null,
   "metadata": {},
   "outputs": [],
   "source": [
    "our_list = []  #<----creating an empty list\n",
    "\n",
    "names = [\"Ryan\", \"Alex\", \"Justin\", \"Liz\", \"Alex\"]\n",
    "numbers = [1, 2, 3, 4, 5, 6]\n",
    "things = [\"Dog\", 2, [1,2,3,4], \"person\"]\n",
    "print(names)\n",
    "print(things)"
   ]
  },
  {
   "cell_type": "markdown",
   "metadata": {},
   "source": [
    "##### Indexing a List"
   ]
  },
  {
   "cell_type": "code",
   "execution_count": null,
   "metadata": {},
   "outputs": [],
   "source": [
    "# [start: stop: step] --> last item [-1]\n",
    "#          0       1         2       3       4        5   \n",
    "names = [\"Ryan\", \"Alex\", \"Justin\", \"Liz\", \"Alex\", \"Razvan\"]\n",
    "# printing a single index from the list\n",
    "print(names[4])\n",
    "print(names[2])\n",
    "# regardless of list lenth, -1 will always be the last index (position)\n",
    "print(names[-1])\n",
    "\n",
    "\n",
    "\n",
    "# LIST SLICING   <----quiz question~!\n",
    "# print portion o flist starting at index 1 and going to the end of the list\n",
    "print(names[1:])\n",
    "\n",
    "#print starting at the beginning and go to a specified index\n",
    "print(names[:3])\n",
    "\n",
    "# stepping through list by 2\n",
    "print(names[::2])\n",
    "\n",
    "#example with start and step\n",
    "print(names[1::2])\n",
    "\n",
    "# print stepping backwards through the list  ***make the list in reverse***\n",
    "print(names[::-1])\n",
    "\n",
    "#    or another way to reverse a list\n",
    "reversed_names = names[::-1]\n",
    "print(reversed_names)\n"
   ]
  },
  {
   "cell_type": "markdown",
   "metadata": {},
   "source": [
    "### List Methods"
   ]
  },
  {
   "cell_type": "markdown",
   "metadata": {},
   "source": [
    "##### .append()"
   ]
  },
  {
   "cell_type": "code",
   "execution_count": null,
   "metadata": {},
   "outputs": [],
   "source": [
    "# list.append(thing you're adding)\n",
    "# append will always add to the BACK of the list\n",
    "# can only append one at a time\n",
    "names = [\"Ryan\", \"Alex\", \"Justin\", \"Liz\", \"Alex\", \"Razvan\"]\n",
    "\n",
    "names.append(\"Will\")\n",
    "print(names)\n",
    "\n",
    "names.append(\"Mo\")\n",
    "print(names)"
   ]
  },
  {
   "cell_type": "markdown",
   "metadata": {},
   "source": [
    "##### .insert()"
   ]
  },
  {
   "cell_type": "code",
   "execution_count": null,
   "metadata": {},
   "outputs": [],
   "source": [
    "#our_list.insert(index, value)\n",
    "# insert will add an element/item to a specific place in the list\n",
    "names.insert(1, \"Morgan\")\n",
    "\n",
    "print(names)\n",
    "\n",
    "names.insert(3, \"Jeiavonni\")\n",
    "print(names)\n"
   ]
  },
  {
   "cell_type": "code",
   "execution_count": null,
   "metadata": {},
   "outputs": [],
   "source": [
    "# side note from Alex for adding multiple by list cotatination\n",
    "\n",
    "List1 = [1, 2, 3], list2 = [4, 5, 6]\n",
    "List3 = list1 + list2\n",
    "You can also use .extend()\n",
    "That allows you to “append” multiple values\n",
    "List1.extend([4,5,6])"
   ]
  },
  {
   "cell_type": "markdown",
   "metadata": {},
   "source": [
    "##### .pop()"
   ]
  },
  {
   "cell_type": "code",
   "execution_count": null,
   "metadata": {},
   "outputs": [],
   "source": [
    "# list.pop() <---default     list.pop(optional index to pop out) <----remove out from a specific place\n",
    "# default is the last value if no parameter is given\n",
    "# pop returns the element that was removed in case you want to assign it into a variable\n",
    "names.pop(5)\n",
    "print(names)\n",
    "\n",
    "# can save that removed item into a variable and use something else\n",
    "popped_names = names.pop(6)\n",
    "print(popped_names)\n",
    "\n",
    "print(names.pop())\n"
   ]
  },
  {
   "cell_type": "markdown",
   "metadata": {},
   "source": [
    "##### .remove()"
   ]
  },
  {
   "cell_type": "code",
   "execution_count": null,
   "metadata": {},
   "outputs": [],
   "source": [
    "# list.removed(element being removed)\n",
    "# value to be removed, not an index\n",
    "print(names)\n",
    "names.remove(\"Ryan\")\n",
    "print(names)\n"
   ]
  },
  {
   "cell_type": "markdown",
   "metadata": {},
   "source": [
    "### Working With Lists"
   ]
  },
  {
   "cell_type": "markdown",
   "metadata": {},
   "source": [
    "##### del()"
   ]
  },
  {
   "cell_type": "code",
   "execution_count": null,
   "metadata": {},
   "outputs": [],
   "source": [
    "# index to be removed, not value    <-------deleting a item from the list at the index\n",
    "print(names)\n",
    "del names[1]\n",
    "print(names)\n",
    "\n",
    "#can delete certain range in list\n",
    "# del names[1:3]\n",
    "# remove index 1 (Morgan) and (Jeiavonni)"
   ]
  },
  {
   "cell_type": "markdown",
   "metadata": {},
   "source": [
    "##### min()"
   ]
  },
  {
   "cell_type": "code",
   "execution_count": null,
   "metadata": {},
   "outputs": [],
   "source": [
    "# return the smallest item in a list\n",
    "numbers = [2, 5, 1, 6, 47, 12]\n",
    "print(min(numbers))\n",
    "\n",
    "# can work with strings too --- grabs the name with lowest alphabet\n",
    "names = [\"Ryan\", \"alex\", \"Justin\", \"Liz\", \"Alex\", \"Razvan\"]\n",
    "print(min(names))"
   ]
  },
  {
   "cell_type": "markdown",
   "metadata": {},
   "source": [
    "##### max()"
   ]
  },
  {
   "cell_type": "code",
   "execution_count": null,
   "metadata": {},
   "outputs": [],
   "source": [
    "# returns largest item in a list\n",
    "numbers = [2, 5, 1, 6, 47, 12]\n",
    "print(max(numbers))\n",
    "names = [\"Ryan\", \"alex\", \"Justin\", \"Liz\", \"Alex\", \"Razvan\"]\n",
    "print(max(names))"
   ]
  },
  {
   "cell_type": "markdown",
   "metadata": {},
   "source": [
    "##### sum()"
   ]
  },
  {
   "cell_type": "code",
   "execution_count": null,
   "metadata": {},
   "outputs": [],
   "source": [
    "# return the sum of all numbers in a list\n",
    "numbers = [2, 5, 1, 6, 47, 12]\n",
    "print(sum(numbers))\n",
    "\n"
   ]
  },
  {
   "cell_type": "markdown",
   "metadata": {},
   "source": [
    "##### sorted()"
   ]
  },
  {
   "cell_type": "code",
   "execution_count": null,
   "metadata": {},
   "outputs": [],
   "source": [
    "#sorted will return a new sorted list, create a new variable\n",
    "numbers = [2, 5, 1, 6, 47, 12]\n",
    "print(sorted(numbers))\n",
    "\n",
    "# another way to use sorted\n",
    "sorted_nums = sorted(numbers)\n",
    "print(sorted_nums)\n",
    "# list is still unsorted without sorted()\n",
    "print(numbers)\n"
   ]
  },
  {
   "cell_type": "markdown",
   "metadata": {},
   "source": [
    "##### .sort() <br>\n",
    "<p>Difference between sort and sorted, is that sorted doesn't change original list it returns a copy, while .sort changes the original list</p>"
   ]
  },
  {
   "cell_type": "code",
   "execution_count": null,
   "metadata": {},
   "outputs": [],
   "source": [
    "#.sort() will sort the original list   ^^^read top comment - this permanently sort the list\n",
    "sorted_nums = numbers.sort()\n",
    "print(sorted_nums)\n",
    "print(numbers)\n",
    "\n",
    "names = [\"Ryan\", \"alex\", \"Justin\", \"Liz\", \"Alex\", \"Razvan\"]\n",
    "names.sort()\n",
    "print(names)\n",
    "# it was sorted based on the unicode character  <-----Captial letters first and then lower letters next (Alex, etc, etc, alex)"
   ]
  },
  {
   "cell_type": "code",
   "execution_count": null,
   "metadata": {},
   "outputs": [],
   "source": [
    "# side note form Alex\n",
    "Functions = len(), print(), sum()\n",
    "Dot methods = .append(), .extend(), .pop()"
   ]
  },
  {
   "cell_type": "markdown",
   "metadata": {},
   "source": [
    "##### Copying a List"
   ]
  },
  {
   "cell_type": "code",
   "execution_count": null,
   "metadata": {},
   "outputs": [],
   "source": [
    "# [:] copies a list, doesn't alter original'\n",
    "names = [\"Ryan\", \"Alex\", \"Justin\", \"Liz\", \"Alex\", \"Razvan\"]\n",
    "print(names[:])\n",
    "names_copy = names[:]\n",
    "print(names_copy)"
   ]
  },
  {
   "cell_type": "markdown",
   "metadata": {},
   "source": [
    "##### Looping Through Lists"
   ]
  },
  {
   "cell_type": "code",
   "execution_count": null,
   "metadata": {},
   "outputs": [],
   "source": [
    "#Two ways to loop through a list. one is by index and the other is by value, using the \"in\" keyword\n",
    "#            0           1                2                  3                  4\n",
    "names = [\"Han Solo\", \"Leia Organa\", \"Luke Skywalker\", \"Lando Calrissian\", \"Mace Windu\"]\n",
    "\n",
    "# Looping by enumerate\n",
    "for i, n in enumerate(names):\n",
    "    print(n)   #<---can also add i to add positions(the #)   <------ print(i, n)\n",
    "print(\"\\n\")\n",
    "\n",
    "# looping by index\n",
    "for i in range(len(names)):\n",
    "    print(names[i])\n",
    "print(\"\\n\")\n",
    "\n",
    "#looping by value\n",
    "for name in names:\n",
    "    print(name)\n",
    "\n"
   ]
  },
  {
   "cell_type": "markdown",
   "metadata": {},
   "source": [
    "##### 'in' keyword"
   ]
  },
  {
   "cell_type": "code",
   "execution_count": null,
   "metadata": {},
   "outputs": [],
   "source": [
    "names = [\"Ryan\", \"Alex\", \"Justin\", \"Liz\", \"Alex\", \"Razvan\"]\n",
    "\n",
    "if \"Liz\" in names:\n",
    "    print(\"Yay Liz\")\n",
    "else:\n",
    "    print(\"boo no Liz\")\n"
   ]
  },
  {
   "cell_type": "markdown",
   "metadata": {},
   "source": [
    "##### 'not in' keyword"
   ]
  },
  {
   "cell_type": "code",
   "execution_count": null,
   "metadata": {},
   "outputs": [],
   "source": [
    "names = [\"Ryan\", \"Alex\", \"Justin\", \"Liz\", \"Alex\", \"Razvan\"]\n",
    "if \"Frederick\" not in names:\n",
    "    print(\"No Frederick\")\n",
    "else:\n",
    "    print(\"Frederick\")\n"
   ]
  },
  {
   "cell_type": "markdown",
   "metadata": {},
   "source": [
    "##### Checking an Empty List"
   ]
  },
  {
   "cell_type": "code",
   "execution_count": null,
   "metadata": {},
   "outputs": [],
   "source": [
    "l_2 = []     #<-----falsy list is []  /  a list with anything in it is truesy\n",
    "l_3 = None       # <------ None is not the same as an empty list /  None is data type\n",
    "\n",
    "if l_2 == []:\n",
    "    print(\"that list is empty\")\n",
    "\n",
    "if l_2 == l_3:\n",
    "    print(\"yes\")\n",
    "else:\n",
    "    print(\"no\")\n",
    "\n",
    "# another way to check if list is empty\n",
    "if l_2:\n",
    "    print(\"this list has stuff\")\n",
    "else:\n",
    "    print(\"this list doesnt have stuff\")"
   ]
  },
  {
   "cell_type": "markdown",
   "metadata": {},
   "source": [
    "##### Removing Instances with a Loop"
   ]
  },
  {
   "cell_type": "code",
   "execution_count": null,
   "metadata": {},
   "outputs": [],
   "source": [
    "#while, remove\n",
    "names = [\"Ryan\", \"Alex\", \"Justin\", \"Liz\", \"Alex\", \"Alex\", \"Razvan\", \"Frederick\"]\n",
    "for name in names: \n",
    "    if name == \"Alex\":\n",
    "        names.remove(name)\n",
    "print(names)\n",
    "# this for loop will only remove the first Alex (the second Alex moves into the first Alex's position and causes it to miss it)\n",
    "# a way to make sure to remove all Alex, use a while loop with remove\n",
    "while \"Alex\" in names:\n",
    "    names.remove(\"Alex\")\n",
    "print(names)"
   ]
  },
  {
   "cell_type": "markdown",
   "metadata": {},
   "source": [
    "### List Exercise <br>\n",
    "<p>Remove all duplicates<br><b>Extra: Create a program that will remove any duplicates from a given list</b></p>"
   ]
  },
  {
   "cell_type": "code",
   "execution_count": null,
   "metadata": {},
   "outputs": [],
   "source": [
    "names = ['connor', 'connor', 'bob', 'connor', 'evan', 'max', 'evan', 2, 2, 2, 3, 3, 4, 'bob', 'kevin']\n",
    "# Hint 1: You will need an append\n",
    "# Hint 2: Using an empty list will make life easier\n",
    "\n",
    "list2 = []\n",
    "for name in names:\n",
    "    if name not in list2:\n",
    "        list2.append(name)\n",
    "print(list2)\n",
    "\n",
    "# another way to answer this:  Alex H's answer using set\n",
    "print(\"\\n\")\n",
    "print(list(set(names)))\n"
   ]
  },
  {
   "cell_type": "markdown",
   "metadata": {},
   "source": [
    "### List Comprehensions <br>\n",
    "<p>Creating a quickly generated list to work with<br>*result*  = [*transform*    *iteration*         *filter*     ]</p>"
   ]
  },
  {
   "cell_type": "markdown",
   "metadata": {},
   "source": [
    "##### In a list comprehension we have a few pieces:\n",
    "1. The first is the counter/ variable - IN this the variable is x\n",
    "2. then we have a transform for the variable\n",
    "3. The finale part of a list comp is called the condition\n",
    "\n",
    "```python\n",
    "    [transform, iteration/variable, condition]\n",
    "```"
   ]
  },
  {
   "cell_type": "code",
   "execution_count": null,
   "metadata": {
    "scrolled": true
   },
   "outputs": [],
   "source": [
    "# square every even number\n",
    "nums = [2, 4, 5, 6, 7, 8, 9, 10]\n",
    "nums_squared = [x**2 for x in nums if x%2 == 0]\n",
    "print(nums_squared)\n",
    "\n",
    "# another way to word it\n",
    "squared_nums = []\n",
    "for x in nums:\n",
    "    if x%2 == 0:\n",
    "        squared_nums.append(x**2)\n",
    "print(squared_nums)\n",
    "        "
   ]
  },
  {
   "cell_type": "code",
   "execution_count": null,
   "metadata": {},
   "outputs": [],
   "source": [
    "nums = [1, 2, 3, 4, 5, 6, 7, 8, 9, 10]\n",
    "new_nums = [x for x in nums]\n",
    "print(new_nums)"
   ]
  },
  {
   "cell_type": "markdown",
   "metadata": {},
   "source": [
    "There are a few benefits to using List comprehensions. The most obvious would be that we now have shorter code to work with instead of using 3+ lines of code in the for loop variant.\n",
    "\n",
    "Another is an added benefit to memory usage. Since the list's memory is allocated first before adding elements to it, we don't have to resize the list once we add elements to it.\n",
    "\n",
    "Lastly, list comprehensions are considered the \"pythonic\" way to write code by the PEP8 standards (Python Style Guide)"
   ]
  },
  {
   "cell_type": "markdown",
   "metadata": {},
   "source": [
    "### Tuples <br>\n",
    "<p><b>Defined as an immutable list</b></p><br>Seperated by commas using parenthesis"
   ]
  },
  {
   "cell_type": "code",
   "execution_count": null,
   "metadata": {},
   "outputs": [],
   "source": [
    "tup_1 = (1, 2, 3)  # one way to create a tuple, items separated by commas in parentheses\n",
    "tup_2 = 4, 5, 6   # another way just items separated by commas\n",
    "print(tup_2)\n",
    "\n",
    "print(type(tup_1))\n",
    "\n",
    "print(\"tuple length\", len(tup_2))\n",
    "\n",
    "for num in tup_2:\n",
    "    print(num)\n",
    "\n",
    "for i in range(len(tup_1)):\n",
    "    print(tup_1[i])"
   ]
  },
  {
   "cell_type": "markdown",
   "metadata": {},
   "source": [
    "##### sorted()"
   ]
  },
  {
   "cell_type": "code",
   "execution_count": null,
   "metadata": {},
   "outputs": [],
   "source": [
    "# sorting a tuple\n",
    "tup = (20, 5, 1, 10, 95, 123)\n",
    "sorted_tup_list = sorted(tup)\n",
    "print(sorted(tup))\n",
    "print(sorted_tup_list)\n",
    "\n",
    "#sorting another tuple\n",
    "some_list =[5, 12, 654, 234, 76, 23]\n",
    "sorted_list = sorted(some_list)\n",
    "print(sorted_list)\n",
    "\n",
    "#changing sorted list back to a tuple to concatenate\n",
    "sorted_list = tuple(sorted_list)\n",
    "new_tup = tuple(sorted_tup_list)\n",
    "print(new_tup)\n",
    "\n",
    "# tuple concatenation / adding two lists together\n",
    "new_new_tup = new_tup + sorted_list\n",
    "print(new_new_tup)"
   ]
  },
  {
   "cell_type": "code",
   "execution_count": null,
   "metadata": {},
   "outputs": [],
   "source": [
    "# list concatenation\n",
    "my_list = [1, 2, 3, 4, 5]\n",
    "my_list2 = [6, 7, 8, 9, 10]\n",
    "\n",
    "new_list = my_list + my_list2\n",
    "print(new_list)"
   ]
  },
  {
   "cell_type": "markdown",
   "metadata": {},
   "source": [
    "##### Adding values to a Tuple"
   ]
  },
  {
   "cell_type": "code",
   "execution_count": null,
   "metadata": {},
   "outputs": [],
   "source": [
    "tup = (20, 5, 1, 10, 95, 123)\n",
    "print(tup)\n",
    "\n",
    "tup = tup + (6,)\n",
    "print(tup)"
   ]
  },
  {
   "cell_type": "markdown",
   "metadata": {},
   "source": [
    "# Exercises"
   ]
  },
  {
   "cell_type": "markdown",
   "metadata": {},
   "source": [
    "## Exercise 1 <br>\n",
    "<p>Using the given list, print out a filtered version of the list with only the numbers that are less than ten</b></i></p><br>\n"
   ]
  },
  {
   "cell_type": "code",
   "execution_count": null,
   "metadata": {},
   "outputs": [],
   "source": [
    "alist = [1,11,14,5,8,9]\n",
    "for a in alist:\n",
    "    if a < 10:\n",
    "        print(a)\n",
    "\n"
   ]
  },
  {
   "cell_type": "markdown",
   "metadata": {},
   "source": [
    "## Exercise 2 <br>\n",
    "<p>Merge and sort the two lists below<br>\n",
    "<b><i>Hint: You can use the .sort() method</i></b></p>"
   ]
  },
  {
   "cell_type": "code",
   "execution_count": null,
   "metadata": {},
   "outputs": [],
   "source": [
    "l_1 = [1,2,3,4,5,6]\n",
    "l_2 = [3,4,5,6,7,8,10]\n",
    "\n",
    "new_list = l_1 + l_2\n",
    "new_list.sort()\n",
    "print(new_list)\n",
    "\n"
   ]
  },
  {
   "cell_type": "markdown",
   "metadata": {},
   "source": [
    "## Exercise 3 <br>\n",
    "<p>Square every number from 1 to 15<br>\n"
   ]
  },
  {
   "cell_type": "code",
   "execution_count": null,
   "metadata": {},
   "outputs": [],
   "source": [
    "num = 1\n",
    "while num < 16:\n",
    "    print(num**2)\n",
    "    num += 1"
   ]
  },
  {
   "cell_type": "markdown",
   "metadata": {},
   "source": [
    "## Exercise 4<br>\n",
    "<p>Using List Comprehension and the given list, print out a filtered list with \n",
    "only the names that start with the letter 'a'. \n",
    "The names in the outputted list should be title cased and have no whitespace.<br>\n",
    "<p>Hint: There is an empty string at the end of the list you will need to account for.\n"
   ]
  },
  {
   "cell_type": "code",
   "execution_count": null,
   "metadata": {},
   "outputs": [],
   "source": [
    "names_list = ['   amy', 'Briant', 'Ryan ', ' Alex', 'steve', '  ']\n",
    "#expected output = ['Amy', 'Alex']\n",
    "\n",
    "outputted_list = []\n",
    "\n",
    "for x in names_list:\n",
    "    no_space = x.split()\n",
    "    for y in no_space:\n",
    "        name = y.title()\n",
    "        if \"a\" == name[0] or \"A\" == name[0]:\n",
    "            outputted_list.append(name)\n",
    "\n",
    "print(outputted_list)\n"
   ]
  },
  {
   "cell_type": "markdown",
   "metadata": {},
   "source": [
    "## Exercise 5 <br>\n",
    "<p>Print all Prime numbers from 1 to 100<br>\n",
    "<p>Hint: A Prime # is any # that is ONLY divisible by 1 and itself. So think how you can iterate through the list of #s from 1 to 100 and check to see if its divisible by ANY # below it.\n",
    "<p>The For/Each might be very helpful for this question. \n",
    "https://www.geeksforgeeks.org/using-else-conditional-statement-with-for-loop-in-python/\n"
   ]
  },
  {
   "cell_type": "code",
   "execution_count": null,
   "metadata": {},
   "outputs": [],
   "source": [
    "# It took awhile, but I was able to find the answer to this question!!  But I dont understand the int(number**0.5) part\n",
    "# so I understand if I dont get credit for this exercise lol!\n",
    "# I do understand that if the remainder is equal to 0, then it is not a prime number so use break to stop the program from checking the rest of \n",
    "# the numbers being divided.  :P\n",
    "\n",
    "for number in range(2, 100+1):\n",
    "    prime = True\n",
    "    for i in range(2, int(number ** 0.5) + 1):\n",
    "        if number % i == 0:\n",
    "            prime = False\n",
    "            break\n",
    "\n",
    "    if prime == True:\n",
    "        print(number)\n",
    "        "
   ]
  }
 ],
 "metadata": {
  "kernelspec": {
   "display_name": "Python 3 (ipykernel)",
   "language": "python",
   "name": "python3"
  },
  "language_info": {
   "codemirror_mode": {
    "name": "ipython",
    "version": 3
   },
   "file_extension": ".py",
   "mimetype": "text/x-python",
   "name": "python",
   "nbconvert_exporter": "python",
   "pygments_lexer": "ipython3",
   "version": "3.12.0"
  }
 },
 "nbformat": 4,
 "nbformat_minor": 4
}
